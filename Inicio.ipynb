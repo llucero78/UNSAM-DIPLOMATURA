{
  "nbformat": 4,
  "nbformat_minor": 0,
  "metadata": {
    "colab": {
      "provenance": [],
      "authorship_tag": "ABX9TyP0ukShtYuqgQdyBKjXJRhq",
      "include_colab_link": true
    },
    "kernelspec": {
      "name": "python3",
      "display_name": "Python 3"
    },
    "language_info": {
      "name": "python"
    }
  },
  "cells": [
    {
      "cell_type": "markdown",
      "metadata": {
        "id": "view-in-github",
        "colab_type": "text"
      },
      "source": [
        "<a href=\"https://colab.research.google.com/github/llucero78/CIAA-MatiasFerraro/blob/master/Inicio.ipynb\" target=\"_parent\"><img src=\"https://colab.research.google.com/assets/colab-badge.svg\" alt=\"Open In Colab\"/></a>"
      ]
    },
    {
      "cell_type": "code",
      "execution_count": 1,
      "metadata": {
        "colab": {
          "base_uri": "https://localhost:8080/"
        },
        "id": "H063A2hOfzbB",
        "outputId": "a42ee01b-4ce1-463d-d899-03b9b8192256"
      },
      "outputs": [
        {
          "output_type": "stream",
          "name": "stdout",
          "text": [
            "Hola Mundo\n"
          ]
        }
      ],
      "source": [
        "print (\"Hola Mundo\")\n"
      ]
    },
    {
      "cell_type": "code",
      "source": [
        "print(\"Hola Mundo\")\n",
        "print(\"Estoy aprendiendo python desde Colab\")"
      ],
      "metadata": {
        "colab": {
          "base_uri": "https://localhost:8080/"
        },
        "id": "O-UCuYgQ0ape",
        "outputId": "68bbb53a-cbef-4efd-fe22-42cbbb246340"
      },
      "execution_count": 2,
      "outputs": [
        {
          "output_type": "stream",
          "name": "stdout",
          "text": [
            "Hola Mundo\n",
            "Estoy aprendiendo python desde Colab\n"
          ]
        }
      ]
    }
  ]
}