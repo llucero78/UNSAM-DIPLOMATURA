{
  "nbformat": 4,
  "nbformat_minor": 0,
  "metadata": {
    "colab": {
      "provenance": [],
      "authorship_tag": "ABX9TyOVhpn/HlUWGAVsPaVNoT9y",
      "include_colab_link": true
    },
    "kernelspec": {
      "name": "python3",
      "display_name": "Python 3"
    },
    "language_info": {
      "name": "python"
    }
  },
  "cells": [
    {
      "cell_type": "markdown",
      "metadata": {
        "id": "view-in-github",
        "colab_type": "text"
      },
      "source": [
        "<a href=\"https://colab.research.google.com/github/llucero78/CIAA-MatiasFerraro/blob/master/PRIMEROS%20PASOS.ipynb\" target=\"_parent\"><img src=\"https://colab.research.google.com/assets/colab-badge.svg\" alt=\"Open In Colab\"/></a>"
      ]
    },
    {
      "cell_type": "code",
      "execution_count": 1,
      "metadata": {
        "colab": {
          "base_uri": "https://localhost:8080/"
        },
        "id": "H063A2hOfzbB",
        "outputId": "a42ee01b-4ce1-463d-d899-03b9b8192256"
      },
      "outputs": [
        {
          "output_type": "stream",
          "name": "stdout",
          "text": [
            "Hola Mundo\n"
          ]
        }
      ],
      "source": [
        "print (\"Hola Mundo\")\n"
      ]
    },
    {
      "cell_type": "code",
      "source": [
        "print(\"Hola Mundo\")\n",
        "print(\"Estoy aprendiendo python desde Colab\")"
      ],
      "metadata": {
        "colab": {
          "base_uri": "https://localhost:8080/"
        },
        "id": "O-UCuYgQ0ape",
        "outputId": "68bbb53a-cbef-4efd-fe22-42cbbb246340"
      },
      "execution_count": 2,
      "outputs": [
        {
          "output_type": "stream",
          "name": "stdout",
          "text": [
            "Hola Mundo\n",
            "Estoy aprendiendo python desde Colab\n"
          ]
        }
      ]
    },
    {
      "cell_type": "code",
      "source": [],
      "metadata": {
        "id": "TK7dFvAYiDyq"
      },
      "execution_count": null,
      "outputs": []
    },
    {
      "cell_type": "code",
      "source": [
        "# Ejemplos de booleanos\n",
        "es_mayor_edad = False\n",
        "es_mujer = True\n",
        "\n",
        "#Ejemplos de cadenas\n",
        "nombre = \"Pedro\"\n",
        "saludo = \"Bienvenidos a Dataclouder\"\n",
        "\n",
        "#Ejemplos de enteros\n",
        "peso = 85\n",
        "numero_hijos = 2\n",
        "\n",
        "# Ejemplos de Flotantes\n",
        "estatura = 1.73\n",
        "pi = 3.1416"
      ],
      "metadata": {
        "id": "boNIhcdX16Cr"
      },
      "execution_count": 4,
      "outputs": []
    },
    {
      "cell_type": "code",
      "source": [],
      "metadata": {
        "id": "yGe-Py29jG2D"
      },
      "execution_count": null,
      "outputs": []
    },
    {
      "cell_type": "code",
      "source": [
        ".#@title Calcula tu masa corporal\n",
        "peso = float(input(\"¿Cuál es tu peso? \"))\n",
        "estatura = float(input(\"¿Cuál es tu estatura? \"))\n",
        "imc = peso / (estatura * estatura)\n",
        "print(\"Tu indice de masa corporal es de:\")\n",
        "print (imc) \n",
        "if imc <= 18.5: \n",
        "    print (\"Estas en Infrapeso\")\n",
        "else:\n",
        "   if imc > 18.5 and imc <=24.9:\n",
        "       print(\"Estas en Peso Normal\")\n",
        "   else:\n",
        "      if imc > 24.9 and imc <=29.9:\n",
        "         print(\"Estas en Sobrepeso\")   \n",
        "      else:\n",
        "        if imc > 29.9 and imc <=34.9:\n",
        "           print(\"Estas en Obesidad\")\n",
        "        else:\n",
        "           if imc > 35:\n",
        "               print(\"Estas en Obesidad Morbida\")  \n",
        "                "
      ],
      "metadata": {
        "colab": {
          "base_uri": "https://localhost:8080/"
        },
        "id": "4vAf4_QY2yWp",
        "outputId": "d81c39ab-2148-44c7-e5ce-f98c750f52d1"
      },
      "execution_count": 5,
      "outputs": [
        {
          "output_type": "stream",
          "name": "stdout",
          "text": [
            "¿Cuál es tu peso? 105\n",
            "¿Cuál es tu estatura? 1.68\n",
            "Tu indice de masa corporal es de:\n",
            "37.202380952380956\n",
            "Estas en Obesidad Morbida\n"
          ]
        }
      ]
    }
  ]
}